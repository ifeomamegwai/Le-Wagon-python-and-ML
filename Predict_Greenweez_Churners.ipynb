{
  "cells": [
    {
      "cell_type": "markdown",
      "metadata": {
        "id": "view-in-github",
        "colab_type": "text"
      },
      "source": [
        "<a href=\"https://colab.research.google.com/github/ifeomamegwai/Le-Wagon-python-and-ML/blob/main/Predict_Greenweez_Churners.ipynb\" target=\"_parent\"><img src=\"https://colab.research.google.com/assets/colab-badge.svg\" alt=\"Open In Colab\"/></a>"
      ]
    },
    {
      "cell_type": "markdown",
      "id": "Ml-2oN64D9qf",
      "metadata": {
        "id": "Ml-2oN64D9qf"
      },
      "source": [
        " ![Emil](data:image/png;base64,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)"
      ]
    },
    {
      "cell_type": "markdown",
      "id": "df02a1b8",
      "metadata": {
        "id": "df02a1b8"
      },
      "source": [
        "# Predict Greenweez Churners\n"
      ]
    },
    {
      "cell_type": "markdown",
      "id": "d13aab03",
      "metadata": {
        "ExecuteTime": {
          "end_time": "2022-11-27T16:48:36.870811Z",
          "start_time": "2022-11-27T16:48:36.841932Z"
        },
        "id": "d13aab03"
      },
      "source": [
        "In this challenge were are going to look at the Greenweez client database!\n",
        "\n",
        "We want to find out who amongst our existing database of clients will reconvert 🔁 (ie. make a second purchase) within 3 months.\n",
        "\n",
        "**Our data**\n",
        "\n",
        "➡️ We have access to the sales from 2019 to 2021.\n",
        "\n",
        "➡️ Let's take a look\n"
      ]
    },
    {
      "cell_type": "markdown",
      "id": "36da60c0",
      "metadata": {
        "id": "36da60c0"
      },
      "source": [
        "## Data exploration\n"
      ]
    },
    {
      "cell_type": "markdown",
      "id": "G1WygUtZEWCg",
      "metadata": {
        "id": "G1WygUtZEWCg"
      },
      "source": [
        "a) Execute the cell below to load our client data into a dataframe variable called `df`."
      ]
    },
    {
      "cell_type": "code",
      "execution_count": null,
      "id": "acdd581b",
      "metadata": {
        "ExecuteTime": {
          "end_time": "2022-11-30T23:54:53.005053Z",
          "start_time": "2022-11-30T23:54:52.913884Z"
        },
        "id": "acdd581b"
      },
      "outputs": [],
      "source": [
        "from google.colab import auth\n",
        "import pandas as pd\n",
        "\n",
        "# Will collect your credentials\n",
        "auth.authenticate_user()\n",
        "\n",
        "# Query Bigquery\n",
        "query = \"SELECT * FROM `data-analytics-bootcamp-363212.course33.gwz_churn`\"\n",
        "project = \"data-analytics-bootcamp-363212\"\n",
        "\n",
        "df = pd.read_gbq(query=query, project_id=project)"
      ]
    },
    {
      "cell_type": "markdown",
      "id": "83XTV3KFFgk4",
      "metadata": {
        "id": "83XTV3KFFgk4"
      },
      "source": [
        "b) Let's take a look at our data.\n",
        "\n",
        "1. As usual, it's useful to first look at the first few rows.\n",
        "2. What's the shape of our data?\n",
        "3. Are there any null values?  \n",
        "4. Given that we are trying to predict 'reconversions', what is our target?"
      ]
    },
    {
      "cell_type": "code",
      "execution_count": null,
      "id": "514458ab",
      "metadata": {
        "ExecuteTime": {
          "end_time": "2022-11-30T23:55:12.438443Z",
          "start_time": "2022-11-30T23:55:12.425133Z"
        },
        "id": "514458ab",
        "scrolled": true,
        "colab": {
          "base_uri": "https://localhost:8080/"
        },
        "outputId": "940a6daa-6274-4443-ecbf-ca243f0ecdb2"
      },
      "outputs": [
        {
          "output_type": "execute_result",
          "data": {
            "text/plain": [
              "(381398, 12)"
            ]
          },
          "metadata": {},
          "execution_count": 63
        }
      ],
      "source": [
        "# your code here\n",
        "df.shape"
      ]
    },
    {
      "cell_type": "code",
      "execution_count": null,
      "id": "25dfd4a6",
      "metadata": {
        "ExecuteTime": {
          "end_time": "2022-11-30T23:55:12.460004Z",
          "start_time": "2022-11-30T23:55:12.443277Z"
        },
        "id": "25dfd4a6",
        "colab": {
          "base_uri": "https://localhost:8080/",
          "height": 460
        },
        "outputId": "5e9b9f95-7125-4f0d-d24a-4cdb78f8d7db"
      },
      "outputs": [
        {
          "output_type": "execute_result",
          "data": {
            "text/plain": [
              "date_date                   0\n",
              "orders_id                   0\n",
              "customers_id                0\n",
              "nb_past_orders              0\n",
              "avg_basket                  0\n",
              "total_purchase_cost         0\n",
              "avg_quantity                0\n",
              "total_quantity              0\n",
              "nb_days_since_last_order    0\n",
              "avg_nb_unique_products      0\n",
              "total_nb_codes              0\n",
              "re_purchase                 0\n",
              "dtype: int64"
            ],
            "text/html": [
              "<div>\n",
              "<style scoped>\n",
              "    .dataframe tbody tr th:only-of-type {\n",
              "        vertical-align: middle;\n",
              "    }\n",
              "\n",
              "    .dataframe tbody tr th {\n",
              "        vertical-align: top;\n",
              "    }\n",
              "\n",
              "    .dataframe thead th {\n",
              "        text-align: right;\n",
              "    }\n",
              "</style>\n",
              "<table border=\"1\" class=\"dataframe\">\n",
              "  <thead>\n",
              "    <tr style=\"text-align: right;\">\n",
              "      <th></th>\n",
              "      <th>0</th>\n",
              "    </tr>\n",
              "  </thead>\n",
              "  <tbody>\n",
              "    <tr>\n",
              "      <th>date_date</th>\n",
              "      <td>0</td>\n",
              "    </tr>\n",
              "    <tr>\n",
              "      <th>orders_id</th>\n",
              "      <td>0</td>\n",
              "    </tr>\n",
              "    <tr>\n",
              "      <th>customers_id</th>\n",
              "      <td>0</td>\n",
              "    </tr>\n",
              "    <tr>\n",
              "      <th>nb_past_orders</th>\n",
              "      <td>0</td>\n",
              "    </tr>\n",
              "    <tr>\n",
              "      <th>avg_basket</th>\n",
              "      <td>0</td>\n",
              "    </tr>\n",
              "    <tr>\n",
              "      <th>total_purchase_cost</th>\n",
              "      <td>0</td>\n",
              "    </tr>\n",
              "    <tr>\n",
              "      <th>avg_quantity</th>\n",
              "      <td>0</td>\n",
              "    </tr>\n",
              "    <tr>\n",
              "      <th>total_quantity</th>\n",
              "      <td>0</td>\n",
              "    </tr>\n",
              "    <tr>\n",
              "      <th>nb_days_since_last_order</th>\n",
              "      <td>0</td>\n",
              "    </tr>\n",
              "    <tr>\n",
              "      <th>avg_nb_unique_products</th>\n",
              "      <td>0</td>\n",
              "    </tr>\n",
              "    <tr>\n",
              "      <th>total_nb_codes</th>\n",
              "      <td>0</td>\n",
              "    </tr>\n",
              "    <tr>\n",
              "      <th>re_purchase</th>\n",
              "      <td>0</td>\n",
              "    </tr>\n",
              "  </tbody>\n",
              "</table>\n",
              "</div><br><label><b>dtype:</b> int64</label>"
            ]
          },
          "metadata": {},
          "execution_count": 64
        }
      ],
      "source": [
        "# your code here\n",
        "df.isnull().sum()\n"
      ]
    },
    {
      "cell_type": "code",
      "execution_count": null,
      "id": "a54bb5d4",
      "metadata": {
        "ExecuteTime": {
          "end_time": "2022-11-30T23:55:12.499203Z",
          "start_time": "2022-11-30T23:55:12.462719Z"
        },
        "id": "a54bb5d4"
      },
      "outputs": [],
      "source": [
        "# your code here\n",
        "#Target Variable: re_purchase\n",
        "\n",
        "#Feature Variables:\n",
        "#nb_past_orders\n",
        "#avg_basket\n",
        "#total_purchase_cost\n",
        "#avg_quantity\n",
        "#total_quantity\n",
        "#nb_days_since_last_order\n",
        "#avg_nb_unique_products\n",
        "#total_nb_codes"
      ]
    },
    {
      "cell_type": "markdown",
      "id": "6b11d94d",
      "metadata": {
        "id": "6b11d94d"
      },
      "source": [
        "<details>\n",
        "    <summary><i>Answer:</i></summary>\n",
        "     \n",
        "Your DataFrame should be of shape 381398 * 12.\n",
        "    \n",
        "The target is the `re_purchase` column, and the other columns will be your features.\n",
        "    \n",
        "There are no null values in data.\n",
        "</details>        "
      ]
    },
    {
      "cell_type": "markdown",
      "id": "_0bUR-nOG131",
      "metadata": {
        "id": "_0bUR-nOG131"
      },
      "source": [
        "c) What do you think of column `orders_id` for our problem? Is it useful for our analysis?"
      ]
    },
    {
      "cell_type": "markdown",
      "id": "Rg0ZOtuEHEDh",
      "metadata": {
        "id": "Rg0ZOtuEHEDh"
      },
      "source": [
        "<details>\n",
        "    <summary><i>Answer:</i></summary>\n",
        "\n",
        "Orders_id is not useful in this case! It is the unique identifier for the Greenweez database, but doesn't provide any info that we use to predict reconversions.\n",
        "</details>   "
      ]
    },
    {
      "cell_type": "markdown",
      "id": "_G0el8rgHUoI",
      "metadata": {
        "id": "_G0el8rgHUoI"
      },
      "source": [
        "d) Now, delete `orders_id` and `date_date` columns."
      ]
    },
    {
      "cell_type": "code",
      "execution_count": null,
      "id": "vmF8UdegHgXk",
      "metadata": {
        "id": "vmF8UdegHgXk"
      },
      "outputs": [],
      "source": [
        "# your code here\n",
        "df.drop(columns=(['orders_id','date_date']), inplace=True)\n"
      ]
    },
    {
      "cell_type": "code",
      "source": [
        "df.head()"
      ],
      "metadata": {
        "colab": {
          "base_uri": "https://localhost:8080/",
          "height": 206
        },
        "id": "150YA3crTz9n",
        "outputId": "c2059661-f3a4-4caa-ec6f-ab4ec0c4fe96"
      },
      "id": "150YA3crTz9n",
      "execution_count": null,
      "outputs": [
        {
          "output_type": "execute_result",
          "data": {
            "text/plain": [
              "   customers_id  nb_past_orders  avg_basket  total_purchase_cost  \\\n",
              "0        207754               3   65.456667               196.37   \n",
              "1        229390               2   84.650000               169.30   \n",
              "2          4921               3   48.343333               145.03   \n",
              "3         10797               8   74.970000               599.76   \n",
              "4        116681               3   62.113333               186.34   \n",
              "\n",
              "   avg_quantity  total_quantity  nb_days_since_last_order  \\\n",
              "0     29.333333              88                         0   \n",
              "1     40.000000              80                         0   \n",
              "2     20.000000              60                         0   \n",
              "3     26.500000             212                         0   \n",
              "4     16.666667              50                         0   \n",
              "\n",
              "   avg_nb_unique_products  total_nb_codes  re_purchase  \n",
              "0               23.000000               1            0  \n",
              "1               34.500000               1            0  \n",
              "2               11.666667               1            1  \n",
              "3               20.750000               8            1  \n",
              "4                9.333333               1            0  "
            ],
            "text/html": [
              "\n",
              "  <div id=\"df-6bf19276-5fb3-49f6-9b3a-90399c57b37d\" class=\"colab-df-container\">\n",
              "    <div>\n",
              "<style scoped>\n",
              "    .dataframe tbody tr th:only-of-type {\n",
              "        vertical-align: middle;\n",
              "    }\n",
              "\n",
              "    .dataframe tbody tr th {\n",
              "        vertical-align: top;\n",
              "    }\n",
              "\n",
              "    .dataframe thead th {\n",
              "        text-align: right;\n",
              "    }\n",
              "</style>\n",
              "<table border=\"1\" class=\"dataframe\">\n",
              "  <thead>\n",
              "    <tr style=\"text-align: right;\">\n",
              "      <th></th>\n",
              "      <th>customers_id</th>\n",
              "      <th>nb_past_orders</th>\n",
              "      <th>avg_basket</th>\n",
              "      <th>total_purchase_cost</th>\n",
              "      <th>avg_quantity</th>\n",
              "      <th>total_quantity</th>\n",
              "      <th>nb_days_since_last_order</th>\n",
              "      <th>avg_nb_unique_products</th>\n",
              "      <th>total_nb_codes</th>\n",
              "      <th>re_purchase</th>\n",
              "    </tr>\n",
              "  </thead>\n",
              "  <tbody>\n",
              "    <tr>\n",
              "      <th>0</th>\n",
              "      <td>207754</td>\n",
              "      <td>3</td>\n",
              "      <td>65.456667</td>\n",
              "      <td>196.37</td>\n",
              "      <td>29.333333</td>\n",
              "      <td>88</td>\n",
              "      <td>0</td>\n",
              "      <td>23.000000</td>\n",
              "      <td>1</td>\n",
              "      <td>0</td>\n",
              "    </tr>\n",
              "    <tr>\n",
              "      <th>1</th>\n",
              "      <td>229390</td>\n",
              "      <td>2</td>\n",
              "      <td>84.650000</td>\n",
              "      <td>169.30</td>\n",
              "      <td>40.000000</td>\n",
              "      <td>80</td>\n",
              "      <td>0</td>\n",
              "      <td>34.500000</td>\n",
              "      <td>1</td>\n",
              "      <td>0</td>\n",
              "    </tr>\n",
              "    <tr>\n",
              "      <th>2</th>\n",
              "      <td>4921</td>\n",
              "      <td>3</td>\n",
              "      <td>48.343333</td>\n",
              "      <td>145.03</td>\n",
              "      <td>20.000000</td>\n",
              "      <td>60</td>\n",
              "      <td>0</td>\n",
              "      <td>11.666667</td>\n",
              "      <td>1</td>\n",
              "      <td>1</td>\n",
              "    </tr>\n",
              "    <tr>\n",
              "      <th>3</th>\n",
              "      <td>10797</td>\n",
              "      <td>8</td>\n",
              "      <td>74.970000</td>\n",
              "      <td>599.76</td>\n",
              "      <td>26.500000</td>\n",
              "      <td>212</td>\n",
              "      <td>0</td>\n",
              "      <td>20.750000</td>\n",
              "      <td>8</td>\n",
              "      <td>1</td>\n",
              "    </tr>\n",
              "    <tr>\n",
              "      <th>4</th>\n",
              "      <td>116681</td>\n",
              "      <td>3</td>\n",
              "      <td>62.113333</td>\n",
              "      <td>186.34</td>\n",
              "      <td>16.666667</td>\n",
              "      <td>50</td>\n",
              "      <td>0</td>\n",
              "      <td>9.333333</td>\n",
              "      <td>1</td>\n",
              "      <td>0</td>\n",
              "    </tr>\n",
              "  </tbody>\n",
              "</table>\n",
              "</div>\n",
              "    <div class=\"colab-df-buttons\">\n",
              "\n",
              "  <div class=\"colab-df-container\">\n",
              "    <button class=\"colab-df-convert\" onclick=\"convertToInteractive('df-6bf19276-5fb3-49f6-9b3a-90399c57b37d')\"\n",
              "            title=\"Convert this dataframe to an interactive table.\"\n",
              "            style=\"display:none;\">\n",
              "\n",
              "  <svg xmlns=\"http://www.w3.org/2000/svg\" height=\"24px\" viewBox=\"0 -960 960 960\">\n",
              "    <path d=\"M120-120v-720h720v720H120Zm60-500h600v-160H180v160Zm220 220h160v-160H400v160Zm0 220h160v-160H400v160ZM180-400h160v-160H180v160Zm440 0h160v-160H620v160ZM180-180h160v-160H180v160Zm440 0h160v-160H620v160Z\"/>\n",
              "  </svg>\n",
              "    </button>\n",
              "\n",
              "  <style>\n",
              "    .colab-df-container {\n",
              "      display:flex;\n",
              "      gap: 12px;\n",
              "    }\n",
              "\n",
              "    .colab-df-convert {\n",
              "      background-color: #E8F0FE;\n",
              "      border: none;\n",
              "      border-radius: 50%;\n",
              "      cursor: pointer;\n",
              "      display: none;\n",
              "      fill: #1967D2;\n",
              "      height: 32px;\n",
              "      padding: 0 0 0 0;\n",
              "      width: 32px;\n",
              "    }\n",
              "\n",
              "    .colab-df-convert:hover {\n",
              "      background-color: #E2EBFA;\n",
              "      box-shadow: 0px 1px 2px rgba(60, 64, 67, 0.3), 0px 1px 3px 1px rgba(60, 64, 67, 0.15);\n",
              "      fill: #174EA6;\n",
              "    }\n",
              "\n",
              "    .colab-df-buttons div {\n",
              "      margin-bottom: 4px;\n",
              "    }\n",
              "\n",
              "    [theme=dark] .colab-df-convert {\n",
              "      background-color: #3B4455;\n",
              "      fill: #D2E3FC;\n",
              "    }\n",
              "\n",
              "    [theme=dark] .colab-df-convert:hover {\n",
              "      background-color: #434B5C;\n",
              "      box-shadow: 0px 1px 3px 1px rgba(0, 0, 0, 0.15);\n",
              "      filter: drop-shadow(0px 1px 2px rgba(0, 0, 0, 0.3));\n",
              "      fill: #FFFFFF;\n",
              "    }\n",
              "  </style>\n",
              "\n",
              "    <script>\n",
              "      const buttonEl =\n",
              "        document.querySelector('#df-6bf19276-5fb3-49f6-9b3a-90399c57b37d button.colab-df-convert');\n",
              "      buttonEl.style.display =\n",
              "        google.colab.kernel.accessAllowed ? 'block' : 'none';\n",
              "\n",
              "      async function convertToInteractive(key) {\n",
              "        const element = document.querySelector('#df-6bf19276-5fb3-49f6-9b3a-90399c57b37d');\n",
              "        const dataTable =\n",
              "          await google.colab.kernel.invokeFunction('convertToInteractive',\n",
              "                                                    [key], {});\n",
              "        if (!dataTable) return;\n",
              "\n",
              "        const docLinkHtml = 'Like what you see? Visit the ' +\n",
              "          '<a target=\"_blank\" href=https://colab.research.google.com/notebooks/data_table.ipynb>data table notebook</a>'\n",
              "          + ' to learn more about interactive tables.';\n",
              "        element.innerHTML = '';\n",
              "        dataTable['output_type'] = 'display_data';\n",
              "        await google.colab.output.renderOutput(dataTable, element);\n",
              "        const docLink = document.createElement('div');\n",
              "        docLink.innerHTML = docLinkHtml;\n",
              "        element.appendChild(docLink);\n",
              "      }\n",
              "    </script>\n",
              "  </div>\n",
              "\n",
              "\n",
              "<div id=\"df-9aecbc58-ed37-4adb-bb0f-ed2ece892c5e\">\n",
              "  <button class=\"colab-df-quickchart\" onclick=\"quickchart('df-9aecbc58-ed37-4adb-bb0f-ed2ece892c5e')\"\n",
              "            title=\"Suggest charts\"\n",
              "            style=\"display:none;\">\n",
              "\n",
              "<svg xmlns=\"http://www.w3.org/2000/svg\" height=\"24px\"viewBox=\"0 0 24 24\"\n",
              "     width=\"24px\">\n",
              "    <g>\n",
              "        <path d=\"M19 3H5c-1.1 0-2 .9-2 2v14c0 1.1.9 2 2 2h14c1.1 0 2-.9 2-2V5c0-1.1-.9-2-2-2zM9 17H7v-7h2v7zm4 0h-2V7h2v10zm4 0h-2v-4h2v4z\"/>\n",
              "    </g>\n",
              "</svg>\n",
              "  </button>\n",
              "\n",
              "<style>\n",
              "  .colab-df-quickchart {\n",
              "      --bg-color: #E8F0FE;\n",
              "      --fill-color: #1967D2;\n",
              "      --hover-bg-color: #E2EBFA;\n",
              "      --hover-fill-color: #174EA6;\n",
              "      --disabled-fill-color: #AAA;\n",
              "      --disabled-bg-color: #DDD;\n",
              "  }\n",
              "\n",
              "  [theme=dark] .colab-df-quickchart {\n",
              "      --bg-color: #3B4455;\n",
              "      --fill-color: #D2E3FC;\n",
              "      --hover-bg-color: #434B5C;\n",
              "      --hover-fill-color: #FFFFFF;\n",
              "      --disabled-bg-color: #3B4455;\n",
              "      --disabled-fill-color: #666;\n",
              "  }\n",
              "\n",
              "  .colab-df-quickchart {\n",
              "    background-color: var(--bg-color);\n",
              "    border: none;\n",
              "    border-radius: 50%;\n",
              "    cursor: pointer;\n",
              "    display: none;\n",
              "    fill: var(--fill-color);\n",
              "    height: 32px;\n",
              "    padding: 0;\n",
              "    width: 32px;\n",
              "  }\n",
              "\n",
              "  .colab-df-quickchart:hover {\n",
              "    background-color: var(--hover-bg-color);\n",
              "    box-shadow: 0 1px 2px rgba(60, 64, 67, 0.3), 0 1px 3px 1px rgba(60, 64, 67, 0.15);\n",
              "    fill: var(--button-hover-fill-color);\n",
              "  }\n",
              "\n",
              "  .colab-df-quickchart-complete:disabled,\n",
              "  .colab-df-quickchart-complete:disabled:hover {\n",
              "    background-color: var(--disabled-bg-color);\n",
              "    fill: var(--disabled-fill-color);\n",
              "    box-shadow: none;\n",
              "  }\n",
              "\n",
              "  .colab-df-spinner {\n",
              "    border: 2px solid var(--fill-color);\n",
              "    border-color: transparent;\n",
              "    border-bottom-color: var(--fill-color);\n",
              "    animation:\n",
              "      spin 1s steps(1) infinite;\n",
              "  }\n",
              "\n",
              "  @keyframes spin {\n",
              "    0% {\n",
              "      border-color: transparent;\n",
              "      border-bottom-color: var(--fill-color);\n",
              "      border-left-color: var(--fill-color);\n",
              "    }\n",
              "    20% {\n",
              "      border-color: transparent;\n",
              "      border-left-color: var(--fill-color);\n",
              "      border-top-color: var(--fill-color);\n",
              "    }\n",
              "    30% {\n",
              "      border-color: transparent;\n",
              "      border-left-color: var(--fill-color);\n",
              "      border-top-color: var(--fill-color);\n",
              "      border-right-color: var(--fill-color);\n",
              "    }\n",
              "    40% {\n",
              "      border-color: transparent;\n",
              "      border-right-color: var(--fill-color);\n",
              "      border-top-color: var(--fill-color);\n",
              "    }\n",
              "    60% {\n",
              "      border-color: transparent;\n",
              "      border-right-color: var(--fill-color);\n",
              "    }\n",
              "    80% {\n",
              "      border-color: transparent;\n",
              "      border-right-color: var(--fill-color);\n",
              "      border-bottom-color: var(--fill-color);\n",
              "    }\n",
              "    90% {\n",
              "      border-color: transparent;\n",
              "      border-bottom-color: var(--fill-color);\n",
              "    }\n",
              "  }\n",
              "</style>\n",
              "\n",
              "  <script>\n",
              "    async function quickchart(key) {\n",
              "      const quickchartButtonEl =\n",
              "        document.querySelector('#' + key + ' button');\n",
              "      quickchartButtonEl.disabled = true;  // To prevent multiple clicks.\n",
              "      quickchartButtonEl.classList.add('colab-df-spinner');\n",
              "      try {\n",
              "        const charts = await google.colab.kernel.invokeFunction(\n",
              "            'suggestCharts', [key], {});\n",
              "      } catch (error) {\n",
              "        console.error('Error during call to suggestCharts:', error);\n",
              "      }\n",
              "      quickchartButtonEl.classList.remove('colab-df-spinner');\n",
              "      quickchartButtonEl.classList.add('colab-df-quickchart-complete');\n",
              "    }\n",
              "    (() => {\n",
              "      let quickchartButtonEl =\n",
              "        document.querySelector('#df-9aecbc58-ed37-4adb-bb0f-ed2ece892c5e button');\n",
              "      quickchartButtonEl.style.display =\n",
              "        google.colab.kernel.accessAllowed ? 'block' : 'none';\n",
              "    })();\n",
              "  </script>\n",
              "</div>\n",
              "\n",
              "    </div>\n",
              "  </div>\n"
            ],
            "application/vnd.google.colaboratory.intrinsic+json": {
              "type": "dataframe",
              "variable_name": "df"
            }
          },
          "metadata": {},
          "execution_count": 67
        }
      ]
    },
    {
      "cell_type": "markdown",
      "id": "6zHUmwf_LjSa",
      "metadata": {
        "id": "6zHUmwf_LjSa"
      },
      "source": [
        "e) Have a look at whether our columns values are on different scales. To do this, use the DataFrame `.describe()` method to compare them.\n",
        "\n",
        "What kind of preprocessing we will have to use ?"
      ]
    },
    {
      "cell_type": "code",
      "execution_count": null,
      "id": "_IxfqLGML1tx",
      "metadata": {
        "id": "_IxfqLGML1tx",
        "colab": {
          "base_uri": "https://localhost:8080/",
          "height": 320
        },
        "outputId": "cafb5b11-4e74-4845-81cc-303049424b8a"
      },
      "outputs": [
        {
          "output_type": "execute_result",
          "data": {
            "text/plain": [
              "        customers_id  nb_past_orders     avg_basket  total_purchase_cost  \\\n",
              "count       381398.0        381398.0  381398.000000        381398.000000   \n",
              "mean   161066.560242        2.058692      51.570302           124.525402   \n",
              "std     95853.282456        2.030991      41.144718           291.427518   \n",
              "min              2.0             1.0       0.000000             0.000000   \n",
              "25%          69762.0             1.0      26.290000            30.310000   \n",
              "50%         174880.0             1.0      43.760000            65.550000   \n",
              "75%         244394.0             2.0      66.840000           150.350000   \n",
              "max         314334.0            61.0    4726.440000         22738.110000   \n",
              "\n",
              "        avg_quantity  total_quantity  nb_days_since_last_order  \\\n",
              "count  381398.000000        381398.0                  381398.0   \n",
              "mean       13.558555       33.825301                       0.0   \n",
              "std        13.202761       71.181359                       0.0   \n",
              "min         1.000000             1.0                       0.0   \n",
              "25%         5.500000             7.0                       0.0   \n",
              "50%        10.333333            16.0                       0.0   \n",
              "75%        18.000000            38.0                       0.0   \n",
              "max      1480.000000          3557.0                       0.0   \n",
              "\n",
              "       avg_nb_unique_products  total_nb_codes  re_purchase  \n",
              "count           381398.000000        381398.0     381398.0  \n",
              "mean                 8.392141        0.544751     0.476864  \n",
              "std                  7.364444        1.441715     0.499465  \n",
              "min                  1.000000             0.0          0.0  \n",
              "25%                  3.000000             0.0          0.0  \n",
              "50%                  6.500000             0.0          0.0  \n",
              "75%                 11.500000             1.0          1.0  \n",
              "max                163.000000            57.0          1.0  "
            ],
            "text/html": [
              "\n",
              "  <div id=\"df-da9e052b-9414-4001-98fb-782b870c3c8e\" class=\"colab-df-container\">\n",
              "    <div>\n",
              "<style scoped>\n",
              "    .dataframe tbody tr th:only-of-type {\n",
              "        vertical-align: middle;\n",
              "    }\n",
              "\n",
              "    .dataframe tbody tr th {\n",
              "        vertical-align: top;\n",
              "    }\n",
              "\n",
              "    .dataframe thead th {\n",
              "        text-align: right;\n",
              "    }\n",
              "</style>\n",
              "<table border=\"1\" class=\"dataframe\">\n",
              "  <thead>\n",
              "    <tr style=\"text-align: right;\">\n",
              "      <th></th>\n",
              "      <th>customers_id</th>\n",
              "      <th>nb_past_orders</th>\n",
              "      <th>avg_basket</th>\n",
              "      <th>total_purchase_cost</th>\n",
              "      <th>avg_quantity</th>\n",
              "      <th>total_quantity</th>\n",
              "      <th>nb_days_since_last_order</th>\n",
              "      <th>avg_nb_unique_products</th>\n",
              "      <th>total_nb_codes</th>\n",
              "      <th>re_purchase</th>\n",
              "    </tr>\n",
              "  </thead>\n",
              "  <tbody>\n",
              "    <tr>\n",
              "      <th>count</th>\n",
              "      <td>381398.0</td>\n",
              "      <td>381398.0</td>\n",
              "      <td>381398.000000</td>\n",
              "      <td>381398.000000</td>\n",
              "      <td>381398.000000</td>\n",
              "      <td>381398.0</td>\n",
              "      <td>381398.0</td>\n",
              "      <td>381398.000000</td>\n",
              "      <td>381398.0</td>\n",
              "      <td>381398.0</td>\n",
              "    </tr>\n",
              "    <tr>\n",
              "      <th>mean</th>\n",
              "      <td>161066.560242</td>\n",
              "      <td>2.058692</td>\n",
              "      <td>51.570302</td>\n",
              "      <td>124.525402</td>\n",
              "      <td>13.558555</td>\n",
              "      <td>33.825301</td>\n",
              "      <td>0.0</td>\n",
              "      <td>8.392141</td>\n",
              "      <td>0.544751</td>\n",
              "      <td>0.476864</td>\n",
              "    </tr>\n",
              "    <tr>\n",
              "      <th>std</th>\n",
              "      <td>95853.282456</td>\n",
              "      <td>2.030991</td>\n",
              "      <td>41.144718</td>\n",
              "      <td>291.427518</td>\n",
              "      <td>13.202761</td>\n",
              "      <td>71.181359</td>\n",
              "      <td>0.0</td>\n",
              "      <td>7.364444</td>\n",
              "      <td>1.441715</td>\n",
              "      <td>0.499465</td>\n",
              "    </tr>\n",
              "    <tr>\n",
              "      <th>min</th>\n",
              "      <td>2.0</td>\n",
              "      <td>1.0</td>\n",
              "      <td>0.000000</td>\n",
              "      <td>0.000000</td>\n",
              "      <td>1.000000</td>\n",
              "      <td>1.0</td>\n",
              "      <td>0.0</td>\n",
              "      <td>1.000000</td>\n",
              "      <td>0.0</td>\n",
              "      <td>0.0</td>\n",
              "    </tr>\n",
              "    <tr>\n",
              "      <th>25%</th>\n",
              "      <td>69762.0</td>\n",
              "      <td>1.0</td>\n",
              "      <td>26.290000</td>\n",
              "      <td>30.310000</td>\n",
              "      <td>5.500000</td>\n",
              "      <td>7.0</td>\n",
              "      <td>0.0</td>\n",
              "      <td>3.000000</td>\n",
              "      <td>0.0</td>\n",
              "      <td>0.0</td>\n",
              "    </tr>\n",
              "    <tr>\n",
              "      <th>50%</th>\n",
              "      <td>174880.0</td>\n",
              "      <td>1.0</td>\n",
              "      <td>43.760000</td>\n",
              "      <td>65.550000</td>\n",
              "      <td>10.333333</td>\n",
              "      <td>16.0</td>\n",
              "      <td>0.0</td>\n",
              "      <td>6.500000</td>\n",
              "      <td>0.0</td>\n",
              "      <td>0.0</td>\n",
              "    </tr>\n",
              "    <tr>\n",
              "      <th>75%</th>\n",
              "      <td>244394.0</td>\n",
              "      <td>2.0</td>\n",
              "      <td>66.840000</td>\n",
              "      <td>150.350000</td>\n",
              "      <td>18.000000</td>\n",
              "      <td>38.0</td>\n",
              "      <td>0.0</td>\n",
              "      <td>11.500000</td>\n",
              "      <td>1.0</td>\n",
              "      <td>1.0</td>\n",
              "    </tr>\n",
              "    <tr>\n",
              "      <th>max</th>\n",
              "      <td>314334.0</td>\n",
              "      <td>61.0</td>\n",
              "      <td>4726.440000</td>\n",
              "      <td>22738.110000</td>\n",
              "      <td>1480.000000</td>\n",
              "      <td>3557.0</td>\n",
              "      <td>0.0</td>\n",
              "      <td>163.000000</td>\n",
              "      <td>57.0</td>\n",
              "      <td>1.0</td>\n",
              "    </tr>\n",
              "  </tbody>\n",
              "</table>\n",
              "</div>\n",
              "    <div class=\"colab-df-buttons\">\n",
              "\n",
              "  <div class=\"colab-df-container\">\n",
              "    <button class=\"colab-df-convert\" onclick=\"convertToInteractive('df-da9e052b-9414-4001-98fb-782b870c3c8e')\"\n",
              "            title=\"Convert this dataframe to an interactive table.\"\n",
              "            style=\"display:none;\">\n",
              "\n",
              "  <svg xmlns=\"http://www.w3.org/2000/svg\" height=\"24px\" viewBox=\"0 -960 960 960\">\n",
              "    <path d=\"M120-120v-720h720v720H120Zm60-500h600v-160H180v160Zm220 220h160v-160H400v160Zm0 220h160v-160H400v160ZM180-400h160v-160H180v160Zm440 0h160v-160H620v160ZM180-180h160v-160H180v160Zm440 0h160v-160H620v160Z\"/>\n",
              "  </svg>\n",
              "    </button>\n",
              "\n",
              "  <style>\n",
              "    .colab-df-container {\n",
              "      display:flex;\n",
              "      gap: 12px;\n",
              "    }\n",
              "\n",
              "    .colab-df-convert {\n",
              "      background-color: #E8F0FE;\n",
              "      border: none;\n",
              "      border-radius: 50%;\n",
              "      cursor: pointer;\n",
              "      display: none;\n",
              "      fill: #1967D2;\n",
              "      height: 32px;\n",
              "      padding: 0 0 0 0;\n",
              "      width: 32px;\n",
              "    }\n",
              "\n",
              "    .colab-df-convert:hover {\n",
              "      background-color: #E2EBFA;\n",
              "      box-shadow: 0px 1px 2px rgba(60, 64, 67, 0.3), 0px 1px 3px 1px rgba(60, 64, 67, 0.15);\n",
              "      fill: #174EA6;\n",
              "    }\n",
              "\n",
              "    .colab-df-buttons div {\n",
              "      margin-bottom: 4px;\n",
              "    }\n",
              "\n",
              "    [theme=dark] .colab-df-convert {\n",
              "      background-color: #3B4455;\n",
              "      fill: #D2E3FC;\n",
              "    }\n",
              "\n",
              "    [theme=dark] .colab-df-convert:hover {\n",
              "      background-color: #434B5C;\n",
              "      box-shadow: 0px 1px 3px 1px rgba(0, 0, 0, 0.15);\n",
              "      filter: drop-shadow(0px 1px 2px rgba(0, 0, 0, 0.3));\n",
              "      fill: #FFFFFF;\n",
              "    }\n",
              "  </style>\n",
              "\n",
              "    <script>\n",
              "      const buttonEl =\n",
              "        document.querySelector('#df-da9e052b-9414-4001-98fb-782b870c3c8e button.colab-df-convert');\n",
              "      buttonEl.style.display =\n",
              "        google.colab.kernel.accessAllowed ? 'block' : 'none';\n",
              "\n",
              "      async function convertToInteractive(key) {\n",
              "        const element = document.querySelector('#df-da9e052b-9414-4001-98fb-782b870c3c8e');\n",
              "        const dataTable =\n",
              "          await google.colab.kernel.invokeFunction('convertToInteractive',\n",
              "                                                    [key], {});\n",
              "        if (!dataTable) return;\n",
              "\n",
              "        const docLinkHtml = 'Like what you see? Visit the ' +\n",
              "          '<a target=\"_blank\" href=https://colab.research.google.com/notebooks/data_table.ipynb>data table notebook</a>'\n",
              "          + ' to learn more about interactive tables.';\n",
              "        element.innerHTML = '';\n",
              "        dataTable['output_type'] = 'display_data';\n",
              "        await google.colab.output.renderOutput(dataTable, element);\n",
              "        const docLink = document.createElement('div');\n",
              "        docLink.innerHTML = docLinkHtml;\n",
              "        element.appendChild(docLink);\n",
              "      }\n",
              "    </script>\n",
              "  </div>\n",
              "\n",
              "\n",
              "<div id=\"df-771378f1-8006-418b-8ef9-43b7579965f4\">\n",
              "  <button class=\"colab-df-quickchart\" onclick=\"quickchart('df-771378f1-8006-418b-8ef9-43b7579965f4')\"\n",
              "            title=\"Suggest charts\"\n",
              "            style=\"display:none;\">\n",
              "\n",
              "<svg xmlns=\"http://www.w3.org/2000/svg\" height=\"24px\"viewBox=\"0 0 24 24\"\n",
              "     width=\"24px\">\n",
              "    <g>\n",
              "        <path d=\"M19 3H5c-1.1 0-2 .9-2 2v14c0 1.1.9 2 2 2h14c1.1 0 2-.9 2-2V5c0-1.1-.9-2-2-2zM9 17H7v-7h2v7zm4 0h-2V7h2v10zm4 0h-2v-4h2v4z\"/>\n",
              "    </g>\n",
              "</svg>\n",
              "  </button>\n",
              "\n",
              "<style>\n",
              "  .colab-df-quickchart {\n",
              "      --bg-color: #E8F0FE;\n",
              "      --fill-color: #1967D2;\n",
              "      --hover-bg-color: #E2EBFA;\n",
              "      --hover-fill-color: #174EA6;\n",
              "      --disabled-fill-color: #AAA;\n",
              "      --disabled-bg-color: #DDD;\n",
              "  }\n",
              "\n",
              "  [theme=dark] .colab-df-quickchart {\n",
              "      --bg-color: #3B4455;\n",
              "      --fill-color: #D2E3FC;\n",
              "      --hover-bg-color: #434B5C;\n",
              "      --hover-fill-color: #FFFFFF;\n",
              "      --disabled-bg-color: #3B4455;\n",
              "      --disabled-fill-color: #666;\n",
              "  }\n",
              "\n",
              "  .colab-df-quickchart {\n",
              "    background-color: var(--bg-color);\n",
              "    border: none;\n",
              "    border-radius: 50%;\n",
              "    cursor: pointer;\n",
              "    display: none;\n",
              "    fill: var(--fill-color);\n",
              "    height: 32px;\n",
              "    padding: 0;\n",
              "    width: 32px;\n",
              "  }\n",
              "\n",
              "  .colab-df-quickchart:hover {\n",
              "    background-color: var(--hover-bg-color);\n",
              "    box-shadow: 0 1px 2px rgba(60, 64, 67, 0.3), 0 1px 3px 1px rgba(60, 64, 67, 0.15);\n",
              "    fill: var(--button-hover-fill-color);\n",
              "  }\n",
              "\n",
              "  .colab-df-quickchart-complete:disabled,\n",
              "  .colab-df-quickchart-complete:disabled:hover {\n",
              "    background-color: var(--disabled-bg-color);\n",
              "    fill: var(--disabled-fill-color);\n",
              "    box-shadow: none;\n",
              "  }\n",
              "\n",
              "  .colab-df-spinner {\n",
              "    border: 2px solid var(--fill-color);\n",
              "    border-color: transparent;\n",
              "    border-bottom-color: var(--fill-color);\n",
              "    animation:\n",
              "      spin 1s steps(1) infinite;\n",
              "  }\n",
              "\n",
              "  @keyframes spin {\n",
              "    0% {\n",
              "      border-color: transparent;\n",
              "      border-bottom-color: var(--fill-color);\n",
              "      border-left-color: var(--fill-color);\n",
              "    }\n",
              "    20% {\n",
              "      border-color: transparent;\n",
              "      border-left-color: var(--fill-color);\n",
              "      border-top-color: var(--fill-color);\n",
              "    }\n",
              "    30% {\n",
              "      border-color: transparent;\n",
              "      border-left-color: var(--fill-color);\n",
              "      border-top-color: var(--fill-color);\n",
              "      border-right-color: var(--fill-color);\n",
              "    }\n",
              "    40% {\n",
              "      border-color: transparent;\n",
              "      border-right-color: var(--fill-color);\n",
              "      border-top-color: var(--fill-color);\n",
              "    }\n",
              "    60% {\n",
              "      border-color: transparent;\n",
              "      border-right-color: var(--fill-color);\n",
              "    }\n",
              "    80% {\n",
              "      border-color: transparent;\n",
              "      border-right-color: var(--fill-color);\n",
              "      border-bottom-color: var(--fill-color);\n",
              "    }\n",
              "    90% {\n",
              "      border-color: transparent;\n",
              "      border-bottom-color: var(--fill-color);\n",
              "    }\n",
              "  }\n",
              "</style>\n",
              "\n",
              "  <script>\n",
              "    async function quickchart(key) {\n",
              "      const quickchartButtonEl =\n",
              "        document.querySelector('#' + key + ' button');\n",
              "      quickchartButtonEl.disabled = true;  // To prevent multiple clicks.\n",
              "      quickchartButtonEl.classList.add('colab-df-spinner');\n",
              "      try {\n",
              "        const charts = await google.colab.kernel.invokeFunction(\n",
              "            'suggestCharts', [key], {});\n",
              "      } catch (error) {\n",
              "        console.error('Error during call to suggestCharts:', error);\n",
              "      }\n",
              "      quickchartButtonEl.classList.remove('colab-df-spinner');\n",
              "      quickchartButtonEl.classList.add('colab-df-quickchart-complete');\n",
              "    }\n",
              "    (() => {\n",
              "      let quickchartButtonEl =\n",
              "        document.querySelector('#df-771378f1-8006-418b-8ef9-43b7579965f4 button');\n",
              "      quickchartButtonEl.style.display =\n",
              "        google.colab.kernel.accessAllowed ? 'block' : 'none';\n",
              "    })();\n",
              "  </script>\n",
              "</div>\n",
              "\n",
              "    </div>\n",
              "  </div>\n"
            ],
            "application/vnd.google.colaboratory.intrinsic+json": {
              "type": "dataframe",
              "summary": "{\n  \"name\": \"df\",\n  \"rows\": 8,\n  \"fields\": [\n    {\n      \"column\": \"customers_id\",\n      \"properties\": {\n        \"dtype\": \"Float64\",\n        \"num_unique_values\": 8,\n        \"samples\": [\n          161066.56024153245,\n          174880.0,\n          381398.0\n        ],\n        \"semantic_type\": \"\",\n        \"description\": \"\"\n      }\n    },\n    {\n      \"column\": \"nb_past_orders\",\n      \"properties\": {\n        \"dtype\": \"Float64\",\n        \"num_unique_values\": 6,\n        \"samples\": [\n          381398.0,\n          2.058691970068013,\n          61.0\n        ],\n        \"semantic_type\": \"\",\n        \"description\": \"\"\n      }\n    },\n    {\n      \"column\": \"avg_basket\",\n      \"properties\": {\n        \"dtype\": \"number\",\n        \"std\": 134604.236853371,\n        \"min\": 0.0,\n        \"max\": 381398.0,\n        \"num_unique_values\": 8,\n        \"samples\": [\n          51.57030240210097,\n          43.760000000000005,\n          381398.0\n        ],\n        \"semantic_type\": \"\",\n        \"description\": \"\"\n      }\n    },\n    {\n      \"column\": \"total_purchase_cost\",\n      \"properties\": {\n        \"dtype\": \"number\",\n        \"std\": 133897.01751065927,\n        \"min\": 0.0,\n        \"max\": 381398.0,\n        \"num_unique_values\": 8,\n        \"samples\": [\n          124.52540186366998,\n          65.55000000000001,\n          381398.0\n        ],\n        \"semantic_type\": \"\",\n        \"description\": \"\"\n      }\n    },\n    {\n      \"column\": \"avg_quantity\",\n      \"properties\": {\n        \"dtype\": \"number\",\n        \"std\": 134767.67521520588,\n        \"min\": 1.0,\n        \"max\": 381398.0,\n        \"num_unique_values\": 8,\n        \"samples\": [\n          13.558555061439797,\n          10.333333333333334,\n          381398.0\n        ],\n        \"semantic_type\": \"\",\n        \"description\": \"\"\n      }\n    },\n    {\n      \"column\": \"total_quantity\",\n      \"properties\": {\n        \"dtype\": \"Float64\",\n        \"num_unique_values\": 8,\n        \"samples\": [\n          33.82530060461775,\n          16.0,\n          381398.0\n        ],\n        \"semantic_type\": \"\",\n        \"description\": \"\"\n      }\n    },\n    {\n      \"column\": \"nb_days_since_last_order\",\n      \"properties\": {\n        \"dtype\": \"Float64\",\n        \"num_unique_values\": 2,\n        \"samples\": [\n          0.0,\n          381398.0\n        ],\n        \"semantic_type\": \"\",\n        \"description\": \"\"\n      }\n    },\n    {\n      \"column\": \"avg_nb_unique_products\",\n      \"properties\": {\n        \"dtype\": \"number\",\n        \"std\": 134834.42751535494,\n        \"min\": 1.0,\n        \"max\": 381398.0,\n        \"num_unique_values\": 8,\n        \"samples\": [\n          8.392141245692407,\n          6.5\n        ],\n        \"semantic_type\": \"\",\n        \"description\": \"\"\n      }\n    },\n    {\n      \"column\": \"total_nb_codes\",\n      \"properties\": {\n        \"dtype\": \"Float64\",\n        \"num_unique_values\": 6,\n        \"samples\": [\n          381398.0,\n          0.5447511523395508\n        ],\n        \"semantic_type\": \"\",\n        \"description\": \"\"\n      }\n    },\n    {\n      \"column\": \"re_purchase\",\n      \"properties\": {\n        \"dtype\": \"Float64\",\n        \"num_unique_values\": 5,\n        \"samples\": [\n          0.47686406326199926,\n          1.0\n        ],\n        \"semantic_type\": \"\",\n        \"description\": \"\"\n      }\n    }\n  ]\n}"
            }
          },
          "metadata": {},
          "execution_count": 68
        }
      ],
      "source": [
        "# your code here\n",
        "df.describe()"
      ]
    },
    {
      "cell_type": "markdown",
      "id": "4wKGDYMnL0ns",
      "metadata": {
        "id": "4wKGDYMnL0ns"
      },
      "source": [
        "<details>\n",
        "    <summary><i>Answer:</i></summary>\n",
        "\n",
        "The features are indeed on different scales. For example, total_nb_codes in comparison with avg_basket.\n",
        "\n",
        "As a result, we will need to use a normalization technique.\n",
        "</details>"
      ]
    },
    {
      "cell_type": "markdown",
      "id": "rOlZmrIqH9Tj",
      "metadata": {
        "id": "rOlZmrIqH9Tj"
      },
      "source": [
        "f) Set column `customers_id` as index to keep customer_id information."
      ]
    },
    {
      "cell_type": "code",
      "execution_count": null,
      "id": "QrhlXxlhIbMg",
      "metadata": {
        "id": "QrhlXxlhIbMg",
        "colab": {
          "base_uri": "https://localhost:8080/"
        },
        "outputId": "adfb80c5-f4d5-48b1-b787-39323f0da86c"
      },
      "outputs": [
        {
          "output_type": "stream",
          "name": "stdout",
          "text": [
            "              nb_past_orders  avg_basket  total_purchase_cost  avg_quantity  \\\n",
            "customers_id                                                                  \n",
            "207754                     3   65.456667               196.37     29.333333   \n",
            "229390                     2   84.650000               169.30     40.000000   \n",
            "4921                       3   48.343333               145.03     20.000000   \n",
            "10797                      8   74.970000               599.76     26.500000   \n",
            "116681                     3   62.113333               186.34     16.666667   \n",
            "\n",
            "              total_quantity  nb_days_since_last_order  \\\n",
            "customers_id                                             \n",
            "207754                    88                         0   \n",
            "229390                    80                         0   \n",
            "4921                      60                         0   \n",
            "10797                    212                         0   \n",
            "116681                    50                         0   \n",
            "\n",
            "              avg_nb_unique_products  total_nb_codes  re_purchase  \n",
            "customers_id                                                       \n",
            "207754                     23.000000               1            0  \n",
            "229390                     34.500000               1            0  \n",
            "4921                       11.666667               1            1  \n",
            "10797                      20.750000               8            1  \n",
            "116681                      9.333333               1            0  \n"
          ]
        }
      ],
      "source": [
        "# your code here\n",
        "# Set 'customers_id' as the index\n",
        "df.set_index('customers_id', inplace=True)\n",
        "\n",
        "# Verify the index has been set\n",
        "print(df.head())"
      ]
    },
    {
      "cell_type": "markdown",
      "id": "fe4da756",
      "metadata": {
        "id": "fe4da756"
      },
      "source": [
        "Note that for the sake of the exercise, we've **already preprocessed some of the data for you** 🔧.\n",
        "\n",
        "This means you'll be working on a (relatively) clean database, with your targets and features already formed. In a real-world situation, it's likely that you'll be spending a lot of time forming your target and features from simpler, less-specific data, either using python or SQL to manipulate the database."
      ]
    },
    {
      "cell_type": "markdown",
      "id": "57c4841f",
      "metadata": {
        "id": "57c4841f"
      },
      "source": [
        "## Modeling"
      ]
    },
    {
      "cell_type": "markdown",
      "id": "bc8197ad",
      "metadata": {
        "id": "bc8197ad"
      },
      "source": [
        "Now that we've seen what our data looks like, we need to define our target and features."
      ]
    },
    {
      "cell_type": "markdown",
      "id": "_UZK7pDxI13y",
      "metadata": {
        "id": "_UZK7pDxI13y"
      },
      "source": [
        "a) Split dataset into a train and a test set (this should give you an `X_train`, `X_test`, `y_train` and `y_test`).\n",
        "\n",
        "We will keep a test_size of 20%."
      ]
    },
    {
      "cell_type": "code",
      "source": [
        "X= df.drop(columns= ['re_purchase'])\n",
        "y= df['re_purchase']"
      ],
      "metadata": {
        "id": "miW3M4qUXIah"
      },
      "id": "miW3M4qUXIah",
      "execution_count": null,
      "outputs": []
    },
    {
      "cell_type": "code",
      "execution_count": null,
      "id": "6ed0545e",
      "metadata": {
        "ExecuteTime": {
          "end_time": "2022-11-30T23:55:12.800730Z",
          "start_time": "2022-11-30T23:55:12.758892Z"
        },
        "id": "6ed0545e"
      },
      "outputs": [],
      "source": [
        "from sklearn.model_selection import train_test_split\n",
        "\n",
        "# split data\n",
        "X_train, X_test, y_train, y_test = train_test_split(X, y, test_size=0.2, random_state=42)\n",
        "\n",
        "# store customers_ids for after\n",
        "test_customers_ids = X_test.index"
      ]
    },
    {
      "cell_type": "code",
      "source": [
        "X_train.shape, X_test.shape, y_train.shape, y_test.shape"
      ],
      "metadata": {
        "colab": {
          "base_uri": "https://localhost:8080/"
        },
        "id": "TNxGCmnJYRd9",
        "outputId": "1bb9894a-b75b-4a04-a849-d76d5321109e"
      },
      "id": "TNxGCmnJYRd9",
      "execution_count": null,
      "outputs": [
        {
          "output_type": "execute_result",
          "data": {
            "text/plain": [
              "((305118, 8), (76280, 8), (305118,), (76280,))"
            ]
          },
          "metadata": {},
          "execution_count": 72
        }
      ]
    },
    {
      "cell_type": "markdown",
      "id": "e_0jFfe1Mbtu",
      "metadata": {
        "id": "e_0jFfe1Mbtu"
      },
      "source": [
        "b) Execute the cell below to apply normalization on our data. We are going to use a StandardScaler for this transformation.\n",
        "\n",
        "*Make sure you understand what this code does.*\n",
        "\n",
        "Why do we use `.fit_transform()` on the train set and `.transform()` on the test set?"
      ]
    },
    {
      "cell_type": "code",
      "execution_count": null,
      "id": "RfYoK3VcLlOa",
      "metadata": {
        "id": "RfYoK3VcLlOa"
      },
      "outputs": [],
      "source": [
        "from sklearn.preprocessing import StandardScaler\n",
        "\n",
        "scaler = StandardScaler()\n",
        "X_train = scaler.fit_transform(X_train)\n",
        "\n",
        "# apply same transformation on X_test\n",
        "X_test = scaler.transform(X_test)"
      ]
    },
    {
      "cell_type": "markdown",
      "id": "tMbN9U0FOKmP",
      "metadata": {
        "id": "tMbN9U0FOKmP"
      },
      "source": [
        "c) What are the types of X_train and X_test?"
      ]
    },
    {
      "cell_type": "code",
      "execution_count": null,
      "id": "UKWxRt-_OSwX",
      "metadata": {
        "id": "UKWxRt-_OSwX",
        "colab": {
          "base_uri": "https://localhost:8080/"
        },
        "outputId": "d5c7df83-a1cc-467b-8579-eba7314dcbc0"
      },
      "outputs": [
        {
          "output_type": "stream",
          "name": "stdout",
          "text": [
            "<class 'numpy.ndarray'>\n",
            "<class 'numpy.ndarray'>\n"
          ]
        }
      ],
      "source": [
        "# your code here\n",
        "print(type(X_train))\n",
        "print(type(X_test))"
      ]
    },
    {
      "cell_type": "markdown",
      "id": "c5ccbdb0",
      "metadata": {
        "id": "c5ccbdb0"
      },
      "source": [
        "d) Before building our first model we need a baseline to compare our futur models!\n",
        "\n",
        "For this example, calculate the accuracy score for a stupid model returning always 1."
      ]
    },
    {
      "cell_type": "code",
      "execution_count": null,
      "id": "bc935d59",
      "metadata": {
        "id": "bc935d59",
        "colab": {
          "base_uri": "https://localhost:8080/"
        },
        "outputId": "d08f318f-9a4d-4283-8c3f-5e34ac4e71fc"
      },
      "outputs": [
        {
          "output_type": "stream",
          "name": "stdout",
          "text": [
            "Baseline accuracy is 0.48\n"
          ]
        }
      ],
      "source": [
        "import numpy as np\n",
        "from sklearn.metrics import accuracy_score\n",
        "\n",
        "baseline_y_pred = pd.Series(np.ones([76280]))\n",
        "\n",
        "baseline_accuracy = accuracy_score(y_test, baseline_y_pred)\n",
        "\n",
        "print(f\"Baseline accuracy is {round(baseline_accuracy,2)}\")"
      ]
    },
    {
      "cell_type": "markdown",
      "id": "1eb1c066",
      "metadata": {
        "id": "1eb1c066"
      },
      "source": [
        "Now that we have a baseline, even if it's poor, we will try to surpass it!"
      ]
    },
    {
      "cell_type": "markdown",
      "id": "RutL69mdMvt6",
      "metadata": {
        "id": "RutL69mdMvt6"
      },
      "source": [
        "e) Let's build our first model!\n",
        "\n",
        "We will use a simple logistic regression model. Execute cell below to train your model on the train data and store the test data predictions in a variable `y_pred`.\n",
        "\n",
        "Make sure you understand what this code does."
      ]
    },
    {
      "cell_type": "code",
      "execution_count": null,
      "id": "dMS02onvNM9m",
      "metadata": {
        "id": "dMS02onvNM9m"
      },
      "outputs": [],
      "source": [
        "from sklearn.linear_model import LogisticRegression\n",
        "\n",
        "# train model\n",
        "clf = LogisticRegression()\n",
        "clf.fit(X_train, y_train)\n",
        "\n",
        "# store predictions\n",
        "y_pred = clf.predict(X_test)"
      ]
    },
    {
      "cell_type": "markdown",
      "id": "TDZ7NOSVP3-9",
      "metadata": {
        "id": "TDZ7NOSVP3-9"
      },
      "source": [
        "f) Calculate the accuracy you get on test data.\n",
        "\n",
        "How do you interpret this value?"
      ]
    },
    {
      "cell_type": "code",
      "execution_count": null,
      "id": "nWIMCAwanK-b",
      "metadata": {
        "id": "nWIMCAwanK-b",
        "colab": {
          "base_uri": "https://localhost:8080/"
        },
        "outputId": "1d8828ad-e711-46b7-f3af-385776a07989"
      },
      "outputs": [
        {
          "output_type": "execute_result",
          "data": {
            "text/plain": [
              "0.7340849501835344"
            ]
          },
          "metadata": {},
          "execution_count": 77
        }
      ],
      "source": [
        "# your code here\n",
        "clf.score(X_test,y_test)"
      ]
    },
    {
      "cell_type": "markdown",
      "id": "CF5TzjYwQiH1",
      "metadata": {
        "id": "CF5TzjYwQiH1"
      },
      "source": [
        "<details>\n",
        "    <summary><i>Answer:</i></summary>\n",
        "\n",
        "Logistic regression score corresponds to accuracy.\n",
        "We see here 73% accuracy on both train and test data. It means that 73% of our predictions are good.\n",
        "\n",
        "There is no overfitting as there is no difference in scores between train and test\n",
        "</details>"
      ]
    },
    {
      "cell_type": "markdown",
      "id": "qOE7_12CRNZU",
      "metadata": {
        "id": "qOE7_12CRNZU"
      },
      "source": [
        "g) Accuracy is one way to judge model performance, but plotting a confusion matrix on the test data can be more informative. This is because you can calculate additional metrics from this matrix!\n",
        "\n",
        "Execute cell below to plot confusion matrix."
      ]
    },
    {
      "cell_type": "code",
      "execution_count": null,
      "id": "LjPgzNyoSJJg",
      "metadata": {
        "id": "LjPgzNyoSJJg",
        "colab": {
          "base_uri": "https://localhost:8080/",
          "height": 449
        },
        "outputId": "f257b0f0-b11e-49ff-a143-1b18c7f07d49"
      },
      "outputs": [
        {
          "output_type": "display_data",
          "data": {
            "text/plain": [
              "<Figure size 640x480 with 2 Axes>"
            ],
            "image/png": "[encoded data removed]"
          },
          "metadata": {}
        }
      ],
      "source": [
        "from sklearn.metrics import ConfusionMatrixDisplay\n",
        "\n",
        "confusion_matrix = ConfusionMatrixDisplay.from_estimator(clf, X_test, y_test)"
      ]
    },
    {
      "cell_type": "markdown",
      "id": "VXK9Z7bxSIYC",
      "metadata": {
        "id": "VXK9Z7bxSIYC"
      },
      "source": [
        "h) From your confusion matrix and the below picture, calculate:\n",
        "- precision\n",
        "- recall\n",
        "- accuracy\n",
        "\n",
        "Remember to make sure you are using the values associated with the correct labels when doing so!"
      ]
    },
    {
      "cell_type": "markdown",
      "id": "N2JcYIqSX-qs",
      "metadata": {
        "id": "N2JcYIqSX-qs"
      },
      "source": [
        "![confusionmetrucs](https://yury-zablotski.netlify.app/post/confusion-matrix/ssw.png)"
      ]
    },
    {
      "cell_type": "markdown",
      "id": "noqXVMq4XI87",
      "metadata": {
        "id": "noqXVMq4XI87"
      },
      "source": [
        "<details>\n",
        "    <summary><i>Answer:</i></summary>\n",
        "\n",
        "- precision: 23142 / (23142 + 7269) = 23142 / 30411 = 75.94%\n",
        "- recall: 23142 / (13150 + 23142) = 23142 / 36292 = 63.77%\n",
        "- accuracy: (32719 + 23142) / 76280 = 55861 / 76280 = 73.23%\n",
        "</details>"
      ]
    },
    {
      "cell_type": "markdown",
      "id": "baHI2lAmbIWT",
      "metadata": {
        "id": "baHI2lAmbIWT"
      },
      "source": [
        "i) What is the percent of churners your model correctly detected? Is it good?"
      ]
    },
    {
      "cell_type": "markdown",
      "id": "kgH4yzoMbV38",
      "metadata": {
        "id": "kgH4yzoMbV38"
      },
      "source": [
        "<details>\n",
        "    <summary><i>Answer:</i></summary>\n",
        "\n",
        "number_churners_correctly_detected / number_of_churners = 32719 / (32719 + 7269) = 32504 / 39988 = 81.82%\n",
        "\n",
        "Not bad at all, we have now a model to identify 81.82% of churners :)\n",
        "</details>"
      ]
    },
    {
      "cell_type": "markdown",
      "id": "w3PPpJ7racjr",
      "metadata": {
        "id": "w3PPpJ7racjr"
      },
      "source": [
        "j) What does the code below do? Why would this be useful from a business perspective?"
      ]
    },
    {
      "cell_type": "code",
      "execution_count": null,
      "id": "7YDRQcI3cicH",
      "metadata": {
        "id": "7YDRQcI3cicH",
        "colab": {
          "base_uri": "https://localhost:8080/",
          "height": 455
        },
        "outputId": "405c921f-d50c-48d3-a198-06dab7a832e9"
      },
      "outputs": [
        {
          "output_type": "execute_result",
          "data": {
            "text/plain": [
              "               Churner  Not churner\n",
              "customers_id                       \n",
              "43510         0.699789     0.300211\n",
              "219187        0.775144     0.224856\n",
              "10946         0.019783     0.980217\n",
              "264456        0.527194     0.472806\n",
              "311225        0.695011     0.304989\n",
              "...                ...          ...\n",
              "43057         0.786491     0.213509\n",
              "112567        0.720258     0.279742\n",
              "32425         0.190055     0.809945\n",
              "157329        0.537230     0.462770\n",
              "141641        0.075959     0.924041\n",
              "\n",
              "[76280 rows x 2 columns]"
            ],
            "text/html": [
              "\n",
              "  <div id=\"df-e34c0d92-1e02-4955-bec2-f9fd5286c2d9\" class=\"colab-df-container\">\n",
              "    <div>\n",
              "<style scoped>\n",
              "    .dataframe tbody tr th:only-of-type {\n",
              "        vertical-align: middle;\n",
              "    }\n",
              "\n",
              "    .dataframe tbody tr th {\n",
              "        vertical-align: top;\n",
              "    }\n",
              "\n",
              "    .dataframe thead th {\n",
              "        text-align: right;\n",
              "    }\n",
              "</style>\n",
              "<table border=\"1\" class=\"dataframe\">\n",
              "  <thead>\n",
              "    <tr style=\"text-align: right;\">\n",
              "      <th></th>\n",
              "      <th>Churner</th>\n",
              "      <th>Not churner</th>\n",
              "    </tr>\n",
              "    <tr>\n",
              "      <th>customers_id</th>\n",
              "      <th></th>\n",
              "      <th></th>\n",
              "    </tr>\n",
              "  </thead>\n",
              "  <tbody>\n",
              "    <tr>\n",
              "      <th>43510</th>\n",
              "      <td>0.699789</td>\n",
              "      <td>0.300211</td>\n",
              "    </tr>\n",
              "    <tr>\n",
              "      <th>219187</th>\n",
              "      <td>0.775144</td>\n",
              "      <td>0.224856</td>\n",
              "    </tr>\n",
              "    <tr>\n",
              "      <th>10946</th>\n",
              "      <td>0.019783</td>\n",
              "      <td>0.980217</td>\n",
              "    </tr>\n",
              "    <tr>\n",
              "      <th>264456</th>\n",
              "      <td>0.527194</td>\n",
              "      <td>0.472806</td>\n",
              "    </tr>\n",
              "    <tr>\n",
              "      <th>311225</th>\n",
              "      <td>0.695011</td>\n",
              "      <td>0.304989</td>\n",
              "    </tr>\n",
              "    <tr>\n",
              "      <th>...</th>\n",
              "      <td>...</td>\n",
              "      <td>...</td>\n",
              "    </tr>\n",
              "    <tr>\n",
              "      <th>43057</th>\n",
              "      <td>0.786491</td>\n",
              "      <td>0.213509</td>\n",
              "    </tr>\n",
              "    <tr>\n",
              "      <th>112567</th>\n",
              "      <td>0.720258</td>\n",
              "      <td>0.279742</td>\n",
              "    </tr>\n",
              "    <tr>\n",
              "      <th>32425</th>\n",
              "      <td>0.190055</td>\n",
              "      <td>0.809945</td>\n",
              "    </tr>\n",
              "    <tr>\n",
              "      <th>157329</th>\n",
              "      <td>0.537230</td>\n",
              "      <td>0.462770</td>\n",
              "    </tr>\n",
              "    <tr>\n",
              "      <th>141641</th>\n",
              "      <td>0.075959</td>\n",
              "      <td>0.924041</td>\n",
              "    </tr>\n",
              "  </tbody>\n",
              "</table>\n",
              "<p>76280 rows × 2 columns</p>\n",
              "</div>\n",
              "    <div class=\"colab-df-buttons\">\n",
              "\n",
              "  <div class=\"colab-df-container\">\n",
              "    <button class=\"colab-df-convert\" onclick=\"convertToInteractive('df-e34c0d92-1e02-4955-bec2-f9fd5286c2d9')\"\n",
              "            title=\"Convert this dataframe to an interactive table.\"\n",
              "            style=\"display:none;\">\n",
              "\n",
              "  <svg xmlns=\"http://www.w3.org/2000/svg\" height=\"24px\" viewBox=\"0 -960 960 960\">\n",
              "    <path d=\"M120-120v-720h720v720H120Zm60-500h600v-160H180v160Zm220 220h160v-160H400v160Zm0 220h160v-160H400v160ZM180-400h160v-160H180v160Zm440 0h160v-160H620v160ZM180-180h160v-160H180v160Zm440 0h160v-160H620v160Z\"/>\n",
              "  </svg>\n",
              "    </button>\n",
              "\n",
              "  <style>\n",
              "    .colab-df-container {\n",
              "      display:flex;\n",
              "      gap: 12px;\n",
              "    }\n",
              "\n",
              "    .colab-df-convert {\n",
              "      background-color: #E8F0FE;\n",
              "      border: none;\n",
              "      border-radius: 50%;\n",
              "      cursor: pointer;\n",
              "      display: none;\n",
              "      fill: #1967D2;\n",
              "      height: 32px;\n",
              "      padding: 0 0 0 0;\n",
              "      width: 32px;\n",
              "    }\n",
              "\n",
              "    .colab-df-convert:hover {\n",
              "      background-color: #E2EBFA;\n",
              "      box-shadow: 0px 1px 2px rgba(60, 64, 67, 0.3), 0px 1px 3px 1px rgba(60, 64, 67, 0.15);\n",
              "      fill: #174EA6;\n",
              "    }\n",
              "\n",
              "    .colab-df-buttons div {\n",
              "      margin-bottom: 4px;\n",
              "    }\n",
              "\n",
              "    [theme=dark] .colab-df-convert {\n",
              "      background-color: #3B4455;\n",
              "      fill: #D2E3FC;\n",
              "    }\n",
              "\n",
              "    [theme=dark] .colab-df-convert:hover {\n",
              "      background-color: #434B5C;\n",
              "      box-shadow: 0px 1px 3px 1px rgba(0, 0, 0, 0.15);\n",
              "      filter: drop-shadow(0px 1px 2px rgba(0, 0, 0, 0.3));\n",
              "      fill: #FFFFFF;\n",
              "    }\n",
              "  </style>\n",
              "\n",
              "    <script>\n",
              "      const buttonEl =\n",
              "        document.querySelector('#df-e34c0d92-1e02-4955-bec2-f9fd5286c2d9 button.colab-df-convert');\n",
              "      buttonEl.style.display =\n",
              "        google.colab.kernel.accessAllowed ? 'block' : 'none';\n",
              "\n",
              "      async function convertToInteractive(key) {\n",
              "        const element = document.querySelector('#df-e34c0d92-1e02-4955-bec2-f9fd5286c2d9');\n",
              "        const dataTable =\n",
              "          await google.colab.kernel.invokeFunction('convertToInteractive',\n",
              "                                                    [key], {});\n",
              "        if (!dataTable) return;\n",
              "\n",
              "        const docLinkHtml = 'Like what you see? Visit the ' +\n",
              "          '<a target=\"_blank\" href=https://colab.research.google.com/notebooks/data_table.ipynb>data table notebook</a>'\n",
              "          + ' to learn more about interactive tables.';\n",
              "        element.innerHTML = '';\n",
              "        dataTable['output_type'] = 'display_data';\n",
              "        await google.colab.output.renderOutput(dataTable, element);\n",
              "        const docLink = document.createElement('div');\n",
              "        docLink.innerHTML = docLinkHtml;\n",
              "        element.appendChild(docLink);\n",
              "      }\n",
              "    </script>\n",
              "  </div>\n",
              "\n",
              "\n",
              "<div id=\"df-f8c2e4de-8d77-460d-9402-7bff26518d68\">\n",
              "  <button class=\"colab-df-quickchart\" onclick=\"quickchart('df-f8c2e4de-8d77-460d-9402-7bff26518d68')\"\n",
              "            title=\"Suggest charts\"\n",
              "            style=\"display:none;\">\n",
              "\n",
              "<svg xmlns=\"http://www.w3.org/2000/svg\" height=\"24px\"viewBox=\"0 0 24 24\"\n",
              "     width=\"24px\">\n",
              "    <g>\n",
              "        <path d=\"M19 3H5c-1.1 0-2 .9-2 2v14c0 1.1.9 2 2 2h14c1.1 0 2-.9 2-2V5c0-1.1-.9-2-2-2zM9 17H7v-7h2v7zm4 0h-2V7h2v10zm4 0h-2v-4h2v4z\"/>\n",
              "    </g>\n",
              "</svg>\n",
              "  </button>\n",
              "\n",
              "<style>\n",
              "  .colab-df-quickchart {\n",
              "      --bg-color: #E8F0FE;\n",
              "      --fill-color: #1967D2;\n",
              "      --hover-bg-color: #E2EBFA;\n",
              "      --hover-fill-color: #174EA6;\n",
              "      --disabled-fill-color: #AAA;\n",
              "      --disabled-bg-color: #DDD;\n",
              "  }\n",
              "\n",
              "  [theme=dark] .colab-df-quickchart {\n",
              "      --bg-color: #3B4455;\n",
              "      --fill-color: #D2E3FC;\n",
              "      --hover-bg-color: #434B5C;\n",
              "      --hover-fill-color: #FFFFFF;\n",
              "      --disabled-bg-color: #3B4455;\n",
              "      --disabled-fill-color: #666;\n",
              "  }\n",
              "\n",
              "  .colab-df-quickchart {\n",
              "    background-color: var(--bg-color);\n",
              "    border: none;\n",
              "    border-radius: 50%;\n",
              "    cursor: pointer;\n",
              "    display: none;\n",
              "    fill: var(--fill-color);\n",
              "    height: 32px;\n",
              "    padding: 0;\n",
              "    width: 32px;\n",
              "  }\n",
              "\n",
              "  .colab-df-quickchart:hover {\n",
              "    background-color: var(--hover-bg-color);\n",
              "    box-shadow: 0 1px 2px rgba(60, 64, 67, 0.3), 0 1px 3px 1px rgba(60, 64, 67, 0.15);\n",
              "    fill: var(--button-hover-fill-color);\n",
              "  }\n",
              "\n",
              "  .colab-df-quickchart-complete:disabled,\n",
              "  .colab-df-quickchart-complete:disabled:hover {\n",
              "    background-color: var(--disabled-bg-color);\n",
              "    fill: var(--disabled-fill-color);\n",
              "    box-shadow: none;\n",
              "  }\n",
              "\n",
              "  .colab-df-spinner {\n",
              "    border: 2px solid var(--fill-color);\n",
              "    border-color: transparent;\n",
              "    border-bottom-color: var(--fill-color);\n",
              "    animation:\n",
              "      spin 1s steps(1) infinite;\n",
              "  }\n",
              "\n",
              "  @keyframes spin {\n",
              "    0% {\n",
              "      border-color: transparent;\n",
              "      border-bottom-color: var(--fill-color);\n",
              "      border-left-color: var(--fill-color);\n",
              "    }\n",
              "    20% {\n",
              "      border-color: transparent;\n",
              "      border-left-color: var(--fill-color);\n",
              "      border-top-color: var(--fill-color);\n",
              "    }\n",
              "    30% {\n",
              "      border-color: transparent;\n",
              "      border-left-color: var(--fill-color);\n",
              "      border-top-color: var(--fill-color);\n",
              "      border-right-color: var(--fill-color);\n",
              "    }\n",
              "    40% {\n",
              "      border-color: transparent;\n",
              "      border-right-color: var(--fill-color);\n",
              "      border-top-color: var(--fill-color);\n",
              "    }\n",
              "    60% {\n",
              "      border-color: transparent;\n",
              "      border-right-color: var(--fill-color);\n",
              "    }\n",
              "    80% {\n",
              "      border-color: transparent;\n",
              "      border-right-color: var(--fill-color);\n",
              "      border-bottom-color: var(--fill-color);\n",
              "    }\n",
              "    90% {\n",
              "      border-color: transparent;\n",
              "      border-bottom-color: var(--fill-color);\n",
              "    }\n",
              "  }\n",
              "</style>\n",
              "\n",
              "  <script>\n",
              "    async function quickchart(key) {\n",
              "      const quickchartButtonEl =\n",
              "        document.querySelector('#' + key + ' button');\n",
              "      quickchartButtonEl.disabled = true;  // To prevent multiple clicks.\n",
              "      quickchartButtonEl.classList.add('colab-df-spinner');\n",
              "      try {\n",
              "        const charts = await google.colab.kernel.invokeFunction(\n",
              "            'suggestCharts', [key], {});\n",
              "      } catch (error) {\n",
              "        console.error('Error during call to suggestCharts:', error);\n",
              "      }\n",
              "      quickchartButtonEl.classList.remove('colab-df-spinner');\n",
              "      quickchartButtonEl.classList.add('colab-df-quickchart-complete');\n",
              "    }\n",
              "    (() => {\n",
              "      let quickchartButtonEl =\n",
              "        document.querySelector('#df-f8c2e4de-8d77-460d-9402-7bff26518d68 button');\n",
              "      quickchartButtonEl.style.display =\n",
              "        google.colab.kernel.accessAllowed ? 'block' : 'none';\n",
              "    })();\n",
              "  </script>\n",
              "</div>\n",
              "\n",
              "  <div id=\"id_cb408064-46c7-40fc-ab82-99a4e79d60ae\">\n",
              "    <style>\n",
              "      .colab-df-generate {\n",
              "        background-color: #E8F0FE;\n",
              "        border: none;\n",
              "        border-radius: 50%;\n",
              "        cursor: pointer;\n",
              "        display: none;\n",
              "        fill: #1967D2;\n",
              "        height: 32px;\n",
              "        padding: 0 0 0 0;\n",
              "        width: 32px;\n",
              "      }\n",
              "\n",
              "      .colab-df-generate:hover {\n",
              "        background-color: #E2EBFA;\n",
              "        box-shadow: 0px 1px 2px rgba(60, 64, 67, 0.3), 0px 1px 3px 1px rgba(60, 64, 67, 0.15);\n",
              "        fill: #174EA6;\n",
              "      }\n",
              "\n",
              "      [theme=dark] .colab-df-generate {\n",
              "        background-color: #3B4455;\n",
              "        fill: #D2E3FC;\n",
              "      }\n",
              "\n",
              "      [theme=dark] .colab-df-generate:hover {\n",
              "        background-color: #434B5C;\n",
              "        box-shadow: 0px 1px 3px 1px rgba(0, 0, 0, 0.15);\n",
              "        filter: drop-shadow(0px 1px 2px rgba(0, 0, 0, 0.3));\n",
              "        fill: #FFFFFF;\n",
              "      }\n",
              "    </style>\n",
              "    <button class=\"colab-df-generate\" onclick=\"generateWithVariable('proba')\"\n",
              "            title=\"Generate code using this dataframe.\"\n",
              "            style=\"display:none;\">\n",
              "\n",
              "  <svg xmlns=\"http://www.w3.org/2000/svg\" height=\"24px\"viewBox=\"0 0 24 24\"\n",
              "       width=\"24px\">\n",
              "    <path d=\"M7,19H8.4L18.45,9,17,7.55,7,17.6ZM5,21V16.75L18.45,3.32a2,2,0,0,1,2.83,0l1.4,1.43a1.91,1.91,0,0,1,.58,1.4,1.91,1.91,0,0,1-.58,1.4L9.25,21ZM18.45,9,17,7.55Zm-12,3A5.31,5.31,0,0,0,4.9,8.1,5.31,5.31,0,0,0,1,6.5,5.31,5.31,0,0,0,4.9,4.9,5.31,5.31,0,0,0,6.5,1,5.31,5.31,0,0,0,8.1,4.9,5.31,5.31,0,0,0,12,6.5,5.46,5.46,0,0,0,6.5,12Z\"/>\n",
              "  </svg>\n",
              "    </button>\n",
              "    <script>\n",
              "      (() => {\n",
              "      const buttonEl =\n",
              "        document.querySelector('#id_cb408064-46c7-40fc-ab82-99a4e79d60ae button.colab-df-generate');\n",
              "      buttonEl.style.display =\n",
              "        google.colab.kernel.accessAllowed ? 'block' : 'none';\n",
              "\n",
              "      buttonEl.onclick = () => {\n",
              "        google.colab.notebook.generateWithVariable('proba');\n",
              "      }\n",
              "      })();\n",
              "    </script>\n",
              "  </div>\n",
              "\n",
              "    </div>\n",
              "  </div>\n"
            ],
            "application/vnd.google.colaboratory.intrinsic+json": {
              "type": "dataframe",
              "variable_name": "proba",
              "summary": "{\n  \"name\": \"proba\",\n  \"rows\": 76280,\n  \"fields\": [\n    {\n      \"column\": \"customers_id\",\n      \"properties\": {\n        \"dtype\": \"Int64\",\n        \"num_unique_values\": 57682,\n        \"samples\": [\n          39958,\n          89649,\n          114849\n        ],\n        \"semantic_type\": \"\",\n        \"description\": \"\"\n      }\n    },\n    {\n      \"column\": \"Churner\",\n      \"properties\": {\n        \"dtype\": \"number\",\n        \"std\": 0.255069071268861,\n        \"min\": 0.0,\n        \"max\": 0.8151144201526516,\n        \"num_unique_values\": 72073,\n        \"samples\": [\n          0.22388140999958583,\n          0.3974429727839711,\n          0.5050152739299396\n        ],\n        \"semantic_type\": \"\",\n        \"description\": \"\"\n      }\n    },\n    {\n      \"column\": \"Not churner\",\n      \"properties\": {\n        \"dtype\": \"number\",\n        \"std\": 0.255069071268861,\n        \"min\": 0.18488557984734844,\n        \"max\": 1.0,\n        \"num_unique_values\": 72082,\n        \"samples\": [\n          0.42371333948447937,\n          0.27465559043072757,\n          0.9106852964957616\n        ],\n        \"semantic_type\": \"\",\n        \"description\": \"\"\n      }\n    }\n  ]\n}"
            }
          },
          "metadata": {},
          "execution_count": 79
        }
      ],
      "source": [
        "proba = pd.DataFrame(clf.predict_proba(X_test), columns=[\"Churner\", \"Not churner\"], index=test_customers_ids)\n",
        "proba"
      ]
    },
    {
      "cell_type": "markdown",
      "id": "BMktqMivalB4",
      "metadata": {
        "id": "BMktqMivalB4"
      },
      "source": [
        "<details>\n",
        "    <summary><i>Answer:</i></summary>\n",
        "\n",
        "We can get probability to repurchase or not (column not churner).\n",
        "</details>"
      ]
    },
    {
      "cell_type": "markdown",
      "id": "XtHNXxDLfu4k",
      "metadata": {
        "id": "XtHNXxDLfu4k"
      },
      "source": [
        "k) Filter this dataframe on customers who have between 20% and 50% probability to re purchase.\n",
        "\n",
        "Customers with a probability of less than 20% to repurchase are considered lost."
      ]
    },
    {
      "cell_type": "code",
      "execution_count": null,
      "id": "hVHI8QB4hF8z",
      "metadata": {
        "id": "hVHI8QB4hF8z",
        "colab": {
          "base_uri": "https://localhost:8080/"
        },
        "outputId": "2d1edfce-7553-4765-89be-3f0f746eeafe"
      },
      "outputs": [
        {
          "output_type": "stream",
          "name": "stdout",
          "text": [
            "               Churner  Not churner\n",
            "customers_id                       \n",
            "87629         0.500010     0.499990\n",
            "159271        0.500016     0.499984\n",
            "195262        0.500054     0.499946\n",
            "1245          0.500073     0.499927\n",
            "234549        0.500081     0.499919\n",
            "...                ...          ...\n",
            "297308        0.799994     0.200006\n",
            "202055        0.799994     0.200006\n",
            "284077        0.799998     0.200002\n",
            "140892        0.799998     0.200002\n",
            "303224        0.799998     0.200002\n",
            "\n",
            "[44951 rows x 2 columns]\n"
          ]
        }
      ],
      "source": [
        "# your code here\n",
        "# Filter customers with a probability between 20% and 50% to repurchase using a boolean mask\n",
        "filtered_proba = proba[(proba['Not churner'] >= 0.2) & (proba['Not churner'] <= 0.5)].sort_values(by= 'Not churner', ascending=False)\n",
        "# Display the filtered DataFrame\n",
        "print(filtered_proba)"
      ]
    },
    {
      "cell_type": "code",
      "source": [
        "# Convert customers with repurchase probabilities to percentages\n",
        "filtered_proba['Not churner'] = (filtered_proba['Not churner'] * 100).round(2).astype(str) + '%'\n",
        "filtered_proba['Churner'] = (filtered_proba['Churner'] * 100).round(2).astype(str) + '%'\n",
        "\n",
        "# Display the updated DataFrame\n",
        "print(filtered_proba)"
      ],
      "metadata": {
        "colab": {
          "base_uri": "https://localhost:8080/"
        },
        "id": "Uh_1rymRtkdh",
        "outputId": "8bef61f1-ab6a-40f2-ff9a-1d96a44a5d49"
      },
      "id": "Uh_1rymRtkdh",
      "execution_count": null,
      "outputs": [
        {
          "output_type": "stream",
          "name": "stdout",
          "text": [
            "             Churner Not churner\n",
            "customers_id                    \n",
            "87629          50.0%       50.0%\n",
            "159271         50.0%       50.0%\n",
            "195262        50.01%      49.99%\n",
            "1245          50.01%      49.99%\n",
            "234549        50.01%      49.99%\n",
            "...              ...         ...\n",
            "297308         80.0%       20.0%\n",
            "202055         80.0%       20.0%\n",
            "284077         80.0%       20.0%\n",
            "140892         80.0%       20.0%\n",
            "303224         80.0%       20.0%\n",
            "\n",
            "[44951 rows x 2 columns]\n"
          ]
        }
      ]
    },
    {
      "cell_type": "code",
      "source": [
        "# Filter customers with a probability of less than 20% to repurchase (lost customers)\n",
        "lost_customers = proba[proba['Not churner'] < 0.2]\n",
        "\n",
        "# Display the lost customers DataFrame\n",
        "print(lost_customers)"
      ],
      "metadata": {
        "colab": {
          "base_uri": "https://localhost:8080/"
        },
        "id": "6ewirCObtrcj",
        "outputId": "bef56c31-4dff-41f1-d6ae-9f69d21032bf"
      },
      "id": "6ewirCObtrcj",
      "execution_count": null,
      "outputs": [
        {
          "output_type": "stream",
          "name": "stdout",
          "text": [
            "               Churner  Not churner\n",
            "customers_id                       \n",
            "260873        0.803595     0.196405\n",
            "246523        0.800014     0.199986\n",
            "244442        0.800861     0.199139\n",
            "89244         0.800682     0.199318\n",
            "221311        0.801164     0.198836\n",
            "...                ...          ...\n",
            "298744        0.805563     0.194437\n",
            "271373        0.803603     0.196397\n",
            "284522        0.803080     0.196920\n",
            "229879        0.804501     0.195499\n",
            "301879        0.800426     0.199574\n",
            "\n",
            "[814 rows x 2 columns]\n"
          ]
        }
      ]
    },
    {
      "cell_type": "code",
      "source": [
        "# Convert lost customers to percentages\n",
        "lost_customers['Not churner'] = (lost_customers['Not churner'] * 100).round(3).astype(str) + '%'\n",
        "lost_customers['Churner'] = (lost_customers['Churner'] * 100).round(3).astype(str) + '%'\n",
        "\n",
        "# Display the updated DataFrame\n",
        "print(lost_customers)"
      ],
      "metadata": {
        "colab": {
          "base_uri": "https://localhost:8080/"
        },
        "id": "NkoPbXLYuuYM",
        "outputId": "28c0f6d0-4afa-4d01-82fd-613cc69784d7"
      },
      "id": "NkoPbXLYuuYM",
      "execution_count": null,
      "outputs": [
        {
          "output_type": "stream",
          "name": "stdout",
          "text": [
            "              Churner Not churner\n",
            "customers_id                     \n",
            "260873        80.359%     19.641%\n",
            "246523        80.001%     19.999%\n",
            "244442        80.086%     19.914%\n",
            "89244         80.068%     19.932%\n",
            "221311        80.116%     19.884%\n",
            "...               ...         ...\n",
            "298744        80.556%     19.444%\n",
            "271373         80.36%      19.64%\n",
            "284522        80.308%     19.692%\n",
            "229879         80.45%      19.55%\n",
            "301879        80.043%     19.957%\n",
            "\n",
            "[814 rows x 2 columns]\n"
          ]
        },
        {
          "output_type": "stream",
          "name": "stderr",
          "text": [
            "<ipython-input-83-a497cd5b3106>:2: SettingWithCopyWarning: \n",
            "A value is trying to be set on a copy of a slice from a DataFrame.\n",
            "Try using .loc[row_indexer,col_indexer] = value instead\n",
            "\n",
            "See the caveats in the documentation: https://pandas.pydata.org/pandas-docs/stable/user_guide/indexing.html#returning-a-view-versus-a-copy\n",
            "  lost_customers['Not churner'] = (lost_customers['Not churner'] * 100).round(3).astype(str) + '%'\n",
            "<ipython-input-83-a497cd5b3106>:3: SettingWithCopyWarning: \n",
            "A value is trying to be set on a copy of a slice from a DataFrame.\n",
            "Try using .loc[row_indexer,col_indexer] = value instead\n",
            "\n",
            "See the caveats in the documentation: https://pandas.pydata.org/pandas-docs/stable/user_guide/indexing.html#returning-a-view-versus-a-copy\n",
            "  lost_customers['Churner'] = (lost_customers['Churner'] * 100).round(3).astype(str) + '%'\n"
          ]
        }
      ]
    },
    {
      "cell_type": "markdown",
      "id": "nsL4xuuViUtS",
      "metadata": {
        "id": "nsL4xuuViUtS"
      },
      "source": [
        "l) Well done! You now have a model that predicts churners.\n",
        "\n",
        "Using this model, suggest a process that can be implemented at GreenWeez to help the company reduce the churn rate.\n"
      ]
    },
    {
      "cell_type": "markdown",
      "id": "jJM9mAE7qWhp",
      "metadata": {
        "id": "jJM9mAE7qWhp"
      },
      "source": [
        "<details>\n",
        "    <summary><i>Answer:</i></summary>\n",
        "\n",
        "On a regular basis, predict possible churners and send this info back to the CRM via ELT.\n",
        "\n",
        "The CRM team will then target those users who are predicted as likely to churn by sending them coupon codes, discounts, ...\n",
        "things that will hopefully retain them!\n",
        "</details>"
      ]
    }
  ],
  "metadata": {
    "colab": {
      "provenance": [],
      "include_colab_link": true
    },
    "kernelspec": {
      "display_name": "Python 3 (ipykernel)",
      "language": "python",
      "name": "python3"
    },
    "language_info": {
      "codemirror_mode": {
        "name": "ipython",
        "version": 3
      },
      "file_extension": ".py",
      "mimetype": "text/x-python",
      "name": "python",
      "nbconvert_exporter": "python",
      "pygments_lexer": "ipython3",
      "version": "3.8.12"
    },
    "toc": {
      "base_numbering": 1,
      "nav_menu": {},
      "number_sections": true,
      "sideBar": true,
      "skip_h1_title": false,
      "title_cell": "Table of Contents",
      "title_sidebar": "Contents",
      "toc_cell": false,
      "toc_position": {},
      "toc_section_display": true,
      "toc_window_display": true
    },
    "varInspector": {
      "cols": {
        "lenName": 16,
        "lenType": 16,
        "lenVar": 40
      },
      "kernels_config": {
        "python": {
          "delete_cmd_postfix": "",
          "delete_cmd_prefix": "del ",
          "library": "var_list.py",
          "varRefreshCmd": "print(var_dic_list())"
        },
        "r": {
          "delete_cmd_postfix": ") ",
          "delete_cmd_prefix": "rm(",
          "library": "var_list.r",
          "varRefreshCmd": "cat(var_dic_list()) "
        }
      },
      "types_to_exclude": [
        "module",
        "function",
        "builtin_function_or_method",
        "instance",
        "_Feature"
      ],
      "window_display": false
    }
  },
  "nbformat": 4,
  "nbformat_minor": 5
}